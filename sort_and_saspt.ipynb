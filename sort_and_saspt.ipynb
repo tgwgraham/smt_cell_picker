{
 "cells": [
  {
   "cell_type": "code",
   "execution_count": 1,
   "id": "8f53bb7d-133c-40a5-b52e-cba69659fbf1",
   "metadata": {},
   "outputs": [],
   "source": [
    "import os, numpy as np, pandas as pd\n",
    "from glob import glob\n",
    "from saspt import StateArray, StateArrayDataset, RBME, load_detections\n",
    "import scipy.io\n",
    "from traj_sorting import classify_and_write_csv"
   ]
  },
  {
   "cell_type": "code",
   "execution_count": 2,
   "id": "ac430230-e2fb-46d0-a9c8-79621b7f3c13",
   "metadata": {},
   "outputs": [
    {
     "name": "stdout",
     "output_type": "stream",
     "text": [
      "Processing FOV 96.\r"
     ]
    }
   ],
   "source": [
    "# Sort trajectories from selected cells and write out to separate csv folders\n",
    "#\n",
    "# Naming convention for output files is [FOV number]_[cell number].csv\n",
    "# Cell number doesn't necessarily go order starting from 1, because it depends on the arbitrary ROI labels assigned by stardist\n",
    "\n",
    "maskmat = 'out.mat' # mask file (generated using MATLAB cellpicker function)\n",
    "csvfolder = 'csvFiles' # folder that contains the CSV files from quot tracking \n",
    "outfolder = 'sorted_csvs' # folder for sorted CSV output (doesn't have to exist yet)\n",
    "\n",
    "classify_and_write_csv(maskmat,csvfolder,outfolder)"
   ]
  },
  {
   "cell_type": "code",
   "execution_count": null,
   "id": "bdf6aaa6-8d60-4dea-9380-ad9ae8cafa2b",
   "metadata": {},
   "outputs": [],
   "source": [
    "# Run SASPT on all sorted cells\n",
    "\n",
    "sorted_csv_folder = 'sorted_csvs' # where sorted csv files were stored from the previous step\n",
    "input_files = glob(sorted_csv_folder + '/*.csv')\n",
    "detections = load_detections(*input_files)\n",
    "settings = dict(\n",
    "    likelihood_type = RBME,\n",
    "    pixel_size_um = 0.16,\n",
    "    frame_interval = 0.00748,\n",
    "    focal_depth = 0.7,\n",
    "    start_frame = 0,\n",
    "    progress_bar = True,\n",
    "    sample_size = 100000,\n",
    ")\n",
    "SA = StateArray.from_detections(detections, **settings)\n",
    "print(SA)\n",
    "print(\"Trajectory statistics:\")\n",
    "for k, v in SA.trajectories.processed_track_statistics.items():\n",
    "    print(f\"{k : <20} : {v}\")\n",
    "prior_occs = SA.prior_occs\n",
    "naive_occs = SA.naive_occs\n",
    "posterior_occs = SA.posterior_occs\n",
    "marginal_posterior_occs = SA.marginalize_on_diff_coef(posterior_occs)\n"
   ]
  },
  {
   "cell_type": "code",
   "execution_count": null,
   "id": "610b2176-3a91-4262-b840-7bb4277c3b81",
   "metadata": {},
   "outputs": [],
   "source": [
    "SA.occupations_dataframe.to_csv(\"posterior_occupations.csv\", index=False)\n",
    "SA.plot_occupations(\"posterior_occupations.png\")\n",
    "SA.plot_assignment_probabilities(\"assignment_probabilities.png\")\n",
    "SA.plot_temporal_assignment_probabilities(\"assignment_probabilities_by_frame.png\")\n",
    "import pickle\n",
    "with open('SA_pickle','wb') as fh:\n",
    "    pickle.dump(SA,fh)"
   ]
  }
 ],
 "metadata": {
  "kernelspec": {
   "display_name": "Python 3 (ipykernel)",
   "language": "python",
   "name": "python3"
  },
  "language_info": {
   "codemirror_mode": {
    "name": "ipython",
    "version": 3
   },
   "file_extension": ".py",
   "mimetype": "text/x-python",
   "name": "python",
   "nbconvert_exporter": "python",
   "pygments_lexer": "ipython3",
   "version": "3.10.8"
  }
 },
 "nbformat": 4,
 "nbformat_minor": 5
}
